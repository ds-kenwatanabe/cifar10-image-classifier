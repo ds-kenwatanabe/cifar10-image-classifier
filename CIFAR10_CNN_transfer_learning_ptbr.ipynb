{
  "nbformat": 4,
  "nbformat_minor": 0,
  "metadata": {
    "colab": {
      "provenance": [],
      "gpuType": "T4"
    },
    "kernelspec": {
      "name": "python3",
      "display_name": "Python 3"
    },
    "language_info": {
      "name": "python"
    },
    "accelerator": "GPU",
    "widgets": {
      "application/vnd.jupyter.widget-state+json": {
        "5dab206126d346cfaff87729d79ebc5d": {
          "model_module": "@jupyter-widgets/controls",
          "model_name": "HBoxModel",
          "model_module_version": "1.5.0",
          "state": {
            "_dom_classes": [],
            "_model_module": "@jupyter-widgets/controls",
            "_model_module_version": "1.5.0",
            "_model_name": "HBoxModel",
            "_view_count": null,
            "_view_module": "@jupyter-widgets/controls",
            "_view_module_version": "1.5.0",
            "_view_name": "HBoxView",
            "box_style": "",
            "children": [
              "IPY_MODEL_345198f64bb24d0f8141b09c735b7606",
              "IPY_MODEL_9ad5eb7fab61444081e72f9e2c6e3a9a",
              "IPY_MODEL_17b9056750384d24a2bf8a85b6ee82b5"
            ],
            "layout": "IPY_MODEL_c94f54db4e784544ab92a47ee94ebcf3"
          }
        },
        "345198f64bb24d0f8141b09c735b7606": {
          "model_module": "@jupyter-widgets/controls",
          "model_name": "HTMLModel",
          "model_module_version": "1.5.0",
          "state": {
            "_dom_classes": [],
            "_model_module": "@jupyter-widgets/controls",
            "_model_module_version": "1.5.0",
            "_model_name": "HTMLModel",
            "_view_count": null,
            "_view_module": "@jupyter-widgets/controls",
            "_view_module_version": "1.5.0",
            "_view_name": "HTMLView",
            "description": "",
            "description_tooltip": null,
            "layout": "IPY_MODEL_9e0cc7e9225a4eaaa4062f245b11c091",
            "placeholder": "​",
            "style": "IPY_MODEL_afc81ec22fa848b58ba002757683fd14",
            "value": "100%"
          }
        },
        "9ad5eb7fab61444081e72f9e2c6e3a9a": {
          "model_module": "@jupyter-widgets/controls",
          "model_name": "FloatProgressModel",
          "model_module_version": "1.5.0",
          "state": {
            "_dom_classes": [],
            "_model_module": "@jupyter-widgets/controls",
            "_model_module_version": "1.5.0",
            "_model_name": "FloatProgressModel",
            "_view_count": null,
            "_view_module": "@jupyter-widgets/controls",
            "_view_module_version": "1.5.0",
            "_view_name": "ProgressView",
            "bar_style": "success",
            "description": "",
            "description_tooltip": null,
            "layout": "IPY_MODEL_8f749575ba4e4c128e30a46abd79af90",
            "max": 10,
            "min": 0,
            "orientation": "horizontal",
            "style": "IPY_MODEL_f8befeca049e4298bf8cb96fe1099cdf",
            "value": 10
          }
        },
        "17b9056750384d24a2bf8a85b6ee82b5": {
          "model_module": "@jupyter-widgets/controls",
          "model_name": "HTMLModel",
          "model_module_version": "1.5.0",
          "state": {
            "_dom_classes": [],
            "_model_module": "@jupyter-widgets/controls",
            "_model_module_version": "1.5.0",
            "_model_name": "HTMLModel",
            "_view_count": null,
            "_view_module": "@jupyter-widgets/controls",
            "_view_module_version": "1.5.0",
            "_view_name": "HTMLView",
            "description": "",
            "description_tooltip": null,
            "layout": "IPY_MODEL_d32fac0cd7854c7fb776544f1d7918c0",
            "placeholder": "​",
            "style": "IPY_MODEL_7fb4b5d926144253a79b0567a4680c32",
            "value": " 10/10 [04:31&lt;00:00, 25.98s/it]"
          }
        },
        "c94f54db4e784544ab92a47ee94ebcf3": {
          "model_module": "@jupyter-widgets/base",
          "model_name": "LayoutModel",
          "model_module_version": "1.2.0",
          "state": {
            "_model_module": "@jupyter-widgets/base",
            "_model_module_version": "1.2.0",
            "_model_name": "LayoutModel",
            "_view_count": null,
            "_view_module": "@jupyter-widgets/base",
            "_view_module_version": "1.2.0",
            "_view_name": "LayoutView",
            "align_content": null,
            "align_items": null,
            "align_self": null,
            "border": null,
            "bottom": null,
            "display": null,
            "flex": null,
            "flex_flow": null,
            "grid_area": null,
            "grid_auto_columns": null,
            "grid_auto_flow": null,
            "grid_auto_rows": null,
            "grid_column": null,
            "grid_gap": null,
            "grid_row": null,
            "grid_template_areas": null,
            "grid_template_columns": null,
            "grid_template_rows": null,
            "height": null,
            "justify_content": null,
            "justify_items": null,
            "left": null,
            "margin": null,
            "max_height": null,
            "max_width": null,
            "min_height": null,
            "min_width": null,
            "object_fit": null,
            "object_position": null,
            "order": null,
            "overflow": null,
            "overflow_x": null,
            "overflow_y": null,
            "padding": null,
            "right": null,
            "top": null,
            "visibility": null,
            "width": null
          }
        },
        "9e0cc7e9225a4eaaa4062f245b11c091": {
          "model_module": "@jupyter-widgets/base",
          "model_name": "LayoutModel",
          "model_module_version": "1.2.0",
          "state": {
            "_model_module": "@jupyter-widgets/base",
            "_model_module_version": "1.2.0",
            "_model_name": "LayoutModel",
            "_view_count": null,
            "_view_module": "@jupyter-widgets/base",
            "_view_module_version": "1.2.0",
            "_view_name": "LayoutView",
            "align_content": null,
            "align_items": null,
            "align_self": null,
            "border": null,
            "bottom": null,
            "display": null,
            "flex": null,
            "flex_flow": null,
            "grid_area": null,
            "grid_auto_columns": null,
            "grid_auto_flow": null,
            "grid_auto_rows": null,
            "grid_column": null,
            "grid_gap": null,
            "grid_row": null,
            "grid_template_areas": null,
            "grid_template_columns": null,
            "grid_template_rows": null,
            "height": null,
            "justify_content": null,
            "justify_items": null,
            "left": null,
            "margin": null,
            "max_height": null,
            "max_width": null,
            "min_height": null,
            "min_width": null,
            "object_fit": null,
            "object_position": null,
            "order": null,
            "overflow": null,
            "overflow_x": null,
            "overflow_y": null,
            "padding": null,
            "right": null,
            "top": null,
            "visibility": null,
            "width": null
          }
        },
        "afc81ec22fa848b58ba002757683fd14": {
          "model_module": "@jupyter-widgets/controls",
          "model_name": "DescriptionStyleModel",
          "model_module_version": "1.5.0",
          "state": {
            "_model_module": "@jupyter-widgets/controls",
            "_model_module_version": "1.5.0",
            "_model_name": "DescriptionStyleModel",
            "_view_count": null,
            "_view_module": "@jupyter-widgets/base",
            "_view_module_version": "1.2.0",
            "_view_name": "StyleView",
            "description_width": ""
          }
        },
        "8f749575ba4e4c128e30a46abd79af90": {
          "model_module": "@jupyter-widgets/base",
          "model_name": "LayoutModel",
          "model_module_version": "1.2.0",
          "state": {
            "_model_module": "@jupyter-widgets/base",
            "_model_module_version": "1.2.0",
            "_model_name": "LayoutModel",
            "_view_count": null,
            "_view_module": "@jupyter-widgets/base",
            "_view_module_version": "1.2.0",
            "_view_name": "LayoutView",
            "align_content": null,
            "align_items": null,
            "align_self": null,
            "border": null,
            "bottom": null,
            "display": null,
            "flex": null,
            "flex_flow": null,
            "grid_area": null,
            "grid_auto_columns": null,
            "grid_auto_flow": null,
            "grid_auto_rows": null,
            "grid_column": null,
            "grid_gap": null,
            "grid_row": null,
            "grid_template_areas": null,
            "grid_template_columns": null,
            "grid_template_rows": null,
            "height": null,
            "justify_content": null,
            "justify_items": null,
            "left": null,
            "margin": null,
            "max_height": null,
            "max_width": null,
            "min_height": null,
            "min_width": null,
            "object_fit": null,
            "object_position": null,
            "order": null,
            "overflow": null,
            "overflow_x": null,
            "overflow_y": null,
            "padding": null,
            "right": null,
            "top": null,
            "visibility": null,
            "width": null
          }
        },
        "f8befeca049e4298bf8cb96fe1099cdf": {
          "model_module": "@jupyter-widgets/controls",
          "model_name": "ProgressStyleModel",
          "model_module_version": "1.5.0",
          "state": {
            "_model_module": "@jupyter-widgets/controls",
            "_model_module_version": "1.5.0",
            "_model_name": "ProgressStyleModel",
            "_view_count": null,
            "_view_module": "@jupyter-widgets/base",
            "_view_module_version": "1.2.0",
            "_view_name": "StyleView",
            "bar_color": null,
            "description_width": ""
          }
        },
        "d32fac0cd7854c7fb776544f1d7918c0": {
          "model_module": "@jupyter-widgets/base",
          "model_name": "LayoutModel",
          "model_module_version": "1.2.0",
          "state": {
            "_model_module": "@jupyter-widgets/base",
            "_model_module_version": "1.2.0",
            "_model_name": "LayoutModel",
            "_view_count": null,
            "_view_module": "@jupyter-widgets/base",
            "_view_module_version": "1.2.0",
            "_view_name": "LayoutView",
            "align_content": null,
            "align_items": null,
            "align_self": null,
            "border": null,
            "bottom": null,
            "display": null,
            "flex": null,
            "flex_flow": null,
            "grid_area": null,
            "grid_auto_columns": null,
            "grid_auto_flow": null,
            "grid_auto_rows": null,
            "grid_column": null,
            "grid_gap": null,
            "grid_row": null,
            "grid_template_areas": null,
            "grid_template_columns": null,
            "grid_template_rows": null,
            "height": null,
            "justify_content": null,
            "justify_items": null,
            "left": null,
            "margin": null,
            "max_height": null,
            "max_width": null,
            "min_height": null,
            "min_width": null,
            "object_fit": null,
            "object_position": null,
            "order": null,
            "overflow": null,
            "overflow_x": null,
            "overflow_y": null,
            "padding": null,
            "right": null,
            "top": null,
            "visibility": null,
            "width": null
          }
        },
        "7fb4b5d926144253a79b0567a4680c32": {
          "model_module": "@jupyter-widgets/controls",
          "model_name": "DescriptionStyleModel",
          "model_module_version": "1.5.0",
          "state": {
            "_model_module": "@jupyter-widgets/controls",
            "_model_module_version": "1.5.0",
            "_model_name": "DescriptionStyleModel",
            "_view_count": null,
            "_view_module": "@jupyter-widgets/base",
            "_view_module_version": "1.2.0",
            "_view_name": "StyleView",
            "description_width": ""
          }
        },
        "87cdc9f02fc9498d94ac76fd6cd37bca": {
          "model_module": "@jupyter-widgets/controls",
          "model_name": "HBoxModel",
          "model_module_version": "1.5.0",
          "state": {
            "_dom_classes": [],
            "_model_module": "@jupyter-widgets/controls",
            "_model_module_version": "1.5.0",
            "_model_name": "HBoxModel",
            "_view_count": null,
            "_view_module": "@jupyter-widgets/controls",
            "_view_module_version": "1.5.0",
            "_view_name": "HBoxView",
            "box_style": "",
            "children": [
              "IPY_MODEL_dfba574fed1d4fa8bd5010a4235ea6ed",
              "IPY_MODEL_84c04796a83548d19f8558a600b3bf1e",
              "IPY_MODEL_4fd0744d6e894f67bbec017e9ffe60fd"
            ],
            "layout": "IPY_MODEL_634762d2d44845fcbf3f0e797a9fd1e1"
          }
        },
        "dfba574fed1d4fa8bd5010a4235ea6ed": {
          "model_module": "@jupyter-widgets/controls",
          "model_name": "HTMLModel",
          "model_module_version": "1.5.0",
          "state": {
            "_dom_classes": [],
            "_model_module": "@jupyter-widgets/controls",
            "_model_module_version": "1.5.0",
            "_model_name": "HTMLModel",
            "_view_count": null,
            "_view_module": "@jupyter-widgets/controls",
            "_view_module_version": "1.5.0",
            "_view_name": "HTMLView",
            "description": "",
            "description_tooltip": null,
            "layout": "IPY_MODEL_49b78a3f27a242b4af1a0d4ef27c304c",
            "placeholder": "​",
            "style": "IPY_MODEL_318a23967f464702b51a32f06b7a4a98",
            "value": "100%"
          }
        },
        "84c04796a83548d19f8558a600b3bf1e": {
          "model_module": "@jupyter-widgets/controls",
          "model_name": "FloatProgressModel",
          "model_module_version": "1.5.0",
          "state": {
            "_dom_classes": [],
            "_model_module": "@jupyter-widgets/controls",
            "_model_module_version": "1.5.0",
            "_model_name": "FloatProgressModel",
            "_view_count": null,
            "_view_module": "@jupyter-widgets/controls",
            "_view_module_version": "1.5.0",
            "_view_name": "ProgressView",
            "bar_style": "success",
            "description": "",
            "description_tooltip": null,
            "layout": "IPY_MODEL_5740bf439c24453ca4a62e4bfe749738",
            "max": 10,
            "min": 0,
            "orientation": "horizontal",
            "style": "IPY_MODEL_8955417825b049a582e9b731725a5797",
            "value": 10
          }
        },
        "4fd0744d6e894f67bbec017e9ffe60fd": {
          "model_module": "@jupyter-widgets/controls",
          "model_name": "HTMLModel",
          "model_module_version": "1.5.0",
          "state": {
            "_dom_classes": [],
            "_model_module": "@jupyter-widgets/controls",
            "_model_module_version": "1.5.0",
            "_model_name": "HTMLModel",
            "_view_count": null,
            "_view_module": "@jupyter-widgets/controls",
            "_view_module_version": "1.5.0",
            "_view_name": "HTMLView",
            "description": "",
            "description_tooltip": null,
            "layout": "IPY_MODEL_c755bc44395543098df625ca9b29e4d0",
            "placeholder": "​",
            "style": "IPY_MODEL_b274f66f76b6478d9d358e9009496cea",
            "value": " 10/10 [20:05&lt;00:00, 120.13s/it]"
          }
        },
        "634762d2d44845fcbf3f0e797a9fd1e1": {
          "model_module": "@jupyter-widgets/base",
          "model_name": "LayoutModel",
          "model_module_version": "1.2.0",
          "state": {
            "_model_module": "@jupyter-widgets/base",
            "_model_module_version": "1.2.0",
            "_model_name": "LayoutModel",
            "_view_count": null,
            "_view_module": "@jupyter-widgets/base",
            "_view_module_version": "1.2.0",
            "_view_name": "LayoutView",
            "align_content": null,
            "align_items": null,
            "align_self": null,
            "border": null,
            "bottom": null,
            "display": null,
            "flex": null,
            "flex_flow": null,
            "grid_area": null,
            "grid_auto_columns": null,
            "grid_auto_flow": null,
            "grid_auto_rows": null,
            "grid_column": null,
            "grid_gap": null,
            "grid_row": null,
            "grid_template_areas": null,
            "grid_template_columns": null,
            "grid_template_rows": null,
            "height": null,
            "justify_content": null,
            "justify_items": null,
            "left": null,
            "margin": null,
            "max_height": null,
            "max_width": null,
            "min_height": null,
            "min_width": null,
            "object_fit": null,
            "object_position": null,
            "order": null,
            "overflow": null,
            "overflow_x": null,
            "overflow_y": null,
            "padding": null,
            "right": null,
            "top": null,
            "visibility": null,
            "width": null
          }
        },
        "49b78a3f27a242b4af1a0d4ef27c304c": {
          "model_module": "@jupyter-widgets/base",
          "model_name": "LayoutModel",
          "model_module_version": "1.2.0",
          "state": {
            "_model_module": "@jupyter-widgets/base",
            "_model_module_version": "1.2.0",
            "_model_name": "LayoutModel",
            "_view_count": null,
            "_view_module": "@jupyter-widgets/base",
            "_view_module_version": "1.2.0",
            "_view_name": "LayoutView",
            "align_content": null,
            "align_items": null,
            "align_self": null,
            "border": null,
            "bottom": null,
            "display": null,
            "flex": null,
            "flex_flow": null,
            "grid_area": null,
            "grid_auto_columns": null,
            "grid_auto_flow": null,
            "grid_auto_rows": null,
            "grid_column": null,
            "grid_gap": null,
            "grid_row": null,
            "grid_template_areas": null,
            "grid_template_columns": null,
            "grid_template_rows": null,
            "height": null,
            "justify_content": null,
            "justify_items": null,
            "left": null,
            "margin": null,
            "max_height": null,
            "max_width": null,
            "min_height": null,
            "min_width": null,
            "object_fit": null,
            "object_position": null,
            "order": null,
            "overflow": null,
            "overflow_x": null,
            "overflow_y": null,
            "padding": null,
            "right": null,
            "top": null,
            "visibility": null,
            "width": null
          }
        },
        "318a23967f464702b51a32f06b7a4a98": {
          "model_module": "@jupyter-widgets/controls",
          "model_name": "DescriptionStyleModel",
          "model_module_version": "1.5.0",
          "state": {
            "_model_module": "@jupyter-widgets/controls",
            "_model_module_version": "1.5.0",
            "_model_name": "DescriptionStyleModel",
            "_view_count": null,
            "_view_module": "@jupyter-widgets/base",
            "_view_module_version": "1.2.0",
            "_view_name": "StyleView",
            "description_width": ""
          }
        },
        "5740bf439c24453ca4a62e4bfe749738": {
          "model_module": "@jupyter-widgets/base",
          "model_name": "LayoutModel",
          "model_module_version": "1.2.0",
          "state": {
            "_model_module": "@jupyter-widgets/base",
            "_model_module_version": "1.2.0",
            "_model_name": "LayoutModel",
            "_view_count": null,
            "_view_module": "@jupyter-widgets/base",
            "_view_module_version": "1.2.0",
            "_view_name": "LayoutView",
            "align_content": null,
            "align_items": null,
            "align_self": null,
            "border": null,
            "bottom": null,
            "display": null,
            "flex": null,
            "flex_flow": null,
            "grid_area": null,
            "grid_auto_columns": null,
            "grid_auto_flow": null,
            "grid_auto_rows": null,
            "grid_column": null,
            "grid_gap": null,
            "grid_row": null,
            "grid_template_areas": null,
            "grid_template_columns": null,
            "grid_template_rows": null,
            "height": null,
            "justify_content": null,
            "justify_items": null,
            "left": null,
            "margin": null,
            "max_height": null,
            "max_width": null,
            "min_height": null,
            "min_width": null,
            "object_fit": null,
            "object_position": null,
            "order": null,
            "overflow": null,
            "overflow_x": null,
            "overflow_y": null,
            "padding": null,
            "right": null,
            "top": null,
            "visibility": null,
            "width": null
          }
        },
        "8955417825b049a582e9b731725a5797": {
          "model_module": "@jupyter-widgets/controls",
          "model_name": "ProgressStyleModel",
          "model_module_version": "1.5.0",
          "state": {
            "_model_module": "@jupyter-widgets/controls",
            "_model_module_version": "1.5.0",
            "_model_name": "ProgressStyleModel",
            "_view_count": null,
            "_view_module": "@jupyter-widgets/base",
            "_view_module_version": "1.2.0",
            "_view_name": "StyleView",
            "bar_color": null,
            "description_width": ""
          }
        },
        "c755bc44395543098df625ca9b29e4d0": {
          "model_module": "@jupyter-widgets/base",
          "model_name": "LayoutModel",
          "model_module_version": "1.2.0",
          "state": {
            "_model_module": "@jupyter-widgets/base",
            "_model_module_version": "1.2.0",
            "_model_name": "LayoutModel",
            "_view_count": null,
            "_view_module": "@jupyter-widgets/base",
            "_view_module_version": "1.2.0",
            "_view_name": "LayoutView",
            "align_content": null,
            "align_items": null,
            "align_self": null,
            "border": null,
            "bottom": null,
            "display": null,
            "flex": null,
            "flex_flow": null,
            "grid_area": null,
            "grid_auto_columns": null,
            "grid_auto_flow": null,
            "grid_auto_rows": null,
            "grid_column": null,
            "grid_gap": null,
            "grid_row": null,
            "grid_template_areas": null,
            "grid_template_columns": null,
            "grid_template_rows": null,
            "height": null,
            "justify_content": null,
            "justify_items": null,
            "left": null,
            "margin": null,
            "max_height": null,
            "max_width": null,
            "min_height": null,
            "min_width": null,
            "object_fit": null,
            "object_position": null,
            "order": null,
            "overflow": null,
            "overflow_x": null,
            "overflow_y": null,
            "padding": null,
            "right": null,
            "top": null,
            "visibility": null,
            "width": null
          }
        },
        "b274f66f76b6478d9d358e9009496cea": {
          "model_module": "@jupyter-widgets/controls",
          "model_name": "DescriptionStyleModel",
          "model_module_version": "1.5.0",
          "state": {
            "_model_module": "@jupyter-widgets/controls",
            "_model_module_version": "1.5.0",
            "_model_name": "DescriptionStyleModel",
            "_view_count": null,
            "_view_module": "@jupyter-widgets/base",
            "_view_module_version": "1.2.0",
            "_view_name": "StyleView",
            "description_width": ""
          }
        }
      }
    }
  },
  "cells": [
    {
      "cell_type": "markdown",
      "source": [
        "# Construindo um modelo CNN com PyTorch usando o dataset CIFAR-10 e Transfer Leraning\n",
        "\n",
        "Veja informações sobre o dataset: https://www.cs.toronto.edu/~kriz/cifar.html\n",
        "\n",
        "## O que é \"Transfer Learning\"?\n",
        "Transfer Learning ou Aprendizado por Transferência, é uma técninca na qual um modelo treinado em uma tarefa (geralmente complexa e com muitos dados) é reutilizado como ponto de partida para uma nova tarefa relacionada.\n",
        "\n",
        "Ela é utilizado quando não se tem muitos dados para treinar um modelo do zero.\n",
        "\n",
        "Funcionamento:\n",
        "Um modelo é treinado em uma grande base de dados (por exemplo, ImageNet com milhões de imagens).\n",
        "\n",
        "Esse modelo aprende representações gerais (por exemplo, detecção de bordas, formas, padrões).\n",
        "\n",
        "Você reaproveita esse modelo e ajusta (fine-tune) as últimas camadas com seus dados específicos.\n",
        "\n",
        "## O que é \"CNN\"?\n",
        "\n",
        "Convolutional Neural Network (CNN) é um tipo de rede neural especializada em processar dados com estrutura de grade, como imagens.\n",
        "\n",
        "Por que usar CNN para imagens:\n",
        "Imagens têm estrutura espacial (linhas e colunas de pixels). CNNs exploram isso com camadas convolucionais que detectam padrões locais (como bordas, texturas) e reduzem parâmetros em comparação a redes neurais totalmente conectadas.\n",
        "\n",
        "Uma CNN é composta de quatro tipos básicos de camadas:\n",
        "\n",
        "• Convolução\n",
        "\n",
        "• Camanda de não linearidade (RELU)\n",
        "\n",
        "• Pooling (Agregação)\n",
        "\n",
        "• Classificação (Fully Connected)\n"
      ],
      "metadata": {
        "id": "MzUFCrDMpQm3"
      }
    },
    {
      "cell_type": "markdown",
      "source": [
        "# As quatro camadas da CNN\n",
        "\n",
        "### 1. Camada de Convolução\n",
        "Aplica filtros (kernels) à imagem de entrada para detectar características locais como bordas, cantos, texturas.\n",
        "\n",
        "Gera mapas de ativação (feature maps) que representam onde os padrões foram encontrados.\n",
        "\n",
        "### 2. Camada de Não Linearidade (ReLU)\n",
        "Aplica uma função de ativação, geralmente ReLU (Rectified Linear Unit).\n",
        "\n",
        "Introduz não-linearidade, permitindo que a rede aprenda padrões complexos e não apenas combinações lineares.\n",
        "\n",
        "* Fórmula do ReLU:\n",
        "\\begin{equation}\n",
        "f(x) = \\max(0, x)\n",
        "\\end{equation}\n",
        "\n",
        "\n",
        "### 3. Camada de Pooling (Agregação)\n",
        "Reduz a dimensionalidade dos mapas de ativação mantendo as características mais importantes.\n",
        "\n",
        "Tipos comuns: MaxPooling (pega o maior valor), AveragePooling (média).\n",
        "\n",
        "Ajuda a reduzir o custo computacional e melhora a invariância a pequenas variações.\n",
        "\n",
        "### 4. Camada de Classificação (Fully Connected)\n",
        "Flatten: transforma os mapas finais em um vetor.\n",
        "\n",
        "Uma ou mais camadas densas (fully connected) conectam todos os neurônios anteriores.\n",
        "\n",
        "A última camada geralmente usa softmax (para classificação multiclasse) ou sigmoid (para binária)."
      ],
      "metadata": {
        "id": "Vw3gSeSks7rz"
      }
    },
    {
      "cell_type": "markdown",
      "source": [
        "## Tensor\n",
        "\n",
        "Além disso, iremos transformar as imagens em Tensores!\n",
        "\n",
        "\n",
        "Um tensor é uma estrutura de dados fundamental no machine learning e deep learning. É uma generalização de matrizes para mais dimensões.\n",
        "\n",
        "Você pode pensar em um tensor como:\n",
        "\n",
        "\n",
        "\n",
        "| Tipo            | Nome      | Exemplo                                 |\n",
        "| --------------- | --------- | --------------------------------------- |\n",
        "| Escalar         | Tensor 0D | `5`, `-3.14`                            |\n",
        "| Vetor           | Tensor 1D | `[1, 2, 3]`                             |\n",
        "| Matriz          | Tensor 2D | `[[1, 2], [3, 4]]`                      |\n",
        "| Imagem RGB      | Tensor 3D | `3 x 32 x 32` (canal, altura, largura)  |\n",
        "| Lote de imagens | Tensor 4D | `64 x 3 x 32 x 32` (batch, canal, H, W) |\n",
        "\n",
        "\n",
        "São ideais para representar dados em múltiplas dimensões, como imagens, vídeos, textos, séries temporais, etc.\n",
        "\n",
        "Permitem operações vetoriais rápidas e paralelas em GPU."
      ],
      "metadata": {
        "id": "FKSc7y64wKIa"
      }
    },
    {
      "cell_type": "markdown",
      "source": [
        "## Para Saber Mais!\n",
        "\n",
        "Veja alguns sites de exemplos e explicações de CNN!\n",
        "\n",
        "[2D Visualization](https://adamharley.com/nn_vis/cnn/2d.html)\n",
        "\n",
        "[CNN Explainer](https://poloclub.github.io/cnn-explainer/)"
      ],
      "metadata": {
        "id": "N_hEp3jktDpw"
      }
    },
    {
      "cell_type": "markdown",
      "source": [
        "# Criando Modelos\n",
        "\n",
        "Vamos criar alguns modelos, com e sem Transfer Learning."
      ],
      "metadata": {
        "id": "1_neDePxttv6"
      }
    },
    {
      "cell_type": "code",
      "execution_count": 1,
      "metadata": {
        "id": "mqCtbbwloPOA"
      },
      "outputs": [],
      "source": [
        "# Importe as bibliotecas\n",
        "import torch\n",
        "import torchvision\n",
        "from torch import nn\n",
        "import torchvision.transforms as transforms\n",
        "from torch.utils.data import DataLoader\n",
        "from torchvision.datasets import CIFAR10\n",
        "import matplotlib.pyplot as plt\n",
        "try:\n",
        "    from torchinfo import summary\n",
        "except:\n",
        "    print(\"torchinfo não encontrado. Instalando.\")\n",
        "    !pip install -q torchinfo\n",
        "    from torchinfo import summary"
      ]
    },
    {
      "cell_type": "code",
      "source": [
        "# No ambiente de execução, altere para uma GPU, se não estiver disponível,\n",
        "# iremos utilizar o CPU\n",
        "device = \"cuda\" if torch.cuda.is_available() else \"cpu\"\n",
        "device"
      ],
      "metadata": {
        "colab": {
          "base_uri": "https://localhost:8080/",
          "height": 36
        },
        "id": "qjmHeqybpNFg",
        "outputId": "f331cb4c-e435-4642-e7d1-79c61c2bd227"
      },
      "execution_count": 2,
      "outputs": [
        {
          "output_type": "execute_result",
          "data": {
            "text/plain": [
              "'cuda'"
            ],
            "application/vnd.google.colaboratory.intrinsic+json": {
              "type": "string"
            }
          },
          "metadata": {},
          "execution_count": 2
        }
      ]
    },
    {
      "cell_type": "code",
      "source": [
        "# Verificando a GPU\n",
        "!nvidia-smi"
      ],
      "metadata": {
        "colab": {
          "base_uri": "https://localhost:8080/"
        },
        "id": "trf9y4WWuuyM",
        "outputId": "063265cc-4c15-4325-ddaf-91203918c166"
      },
      "execution_count": 3,
      "outputs": [
        {
          "output_type": "stream",
          "name": "stdout",
          "text": [
            "Mon May  5 16:10:30 2025       \n",
            "+-----------------------------------------------------------------------------------------+\n",
            "| NVIDIA-SMI 550.54.15              Driver Version: 550.54.15      CUDA Version: 12.4     |\n",
            "|-----------------------------------------+------------------------+----------------------+\n",
            "| GPU  Name                 Persistence-M | Bus-Id          Disp.A | Volatile Uncorr. ECC |\n",
            "| Fan  Temp   Perf          Pwr:Usage/Cap |           Memory-Usage | GPU-Util  Compute M. |\n",
            "|                                         |                        |               MIG M. |\n",
            "|=========================================+========================+======================|\n",
            "|   0  Tesla T4                       Off |   00000000:00:04.0 Off |                    0 |\n",
            "| N/A   44C    P8              9W /   70W |       2MiB /  15360MiB |      0%      Default |\n",
            "|                                         |                        |                  N/A |\n",
            "+-----------------------------------------+------------------------+----------------------+\n",
            "                                                                                         \n",
            "+-----------------------------------------------------------------------------------------+\n",
            "| Processes:                                                                              |\n",
            "|  GPU   GI   CI        PID   Type   Process name                              GPU Memory |\n",
            "|        ID   ID                                                               Usage      |\n",
            "|=========================================================================================|\n",
            "|  No running processes found                                                             |\n",
            "+-----------------------------------------------------------------------------------------+\n"
          ]
        }
      ]
    },
    {
      "cell_type": "code",
      "source": [
        "# Dividindo a base em teste e treino\n",
        "# Vamos também mudar o tamanho da imagem para 32x32 e\n",
        "# fazer algumas transformações para adicionar variabilidade\n",
        "# Por fim transformamos a imagem em Tensores! (ToTensor())\n",
        "\n",
        "train_data = CIFAR10(root=\"data\",\n",
        "                     download=True,\n",
        "                     train=True,\n",
        "                     transform=transforms.Compose([\n",
        "                          transforms.Resize((32, 32)),\n",
        "                          transforms.RandomPerspective(p=0.2),\n",
        "                          transforms.RandomInvert(p=0.2),\n",
        "                          transforms.RandomRotation(degrees=(0, 70)),\n",
        "                          transforms.ToTensor()]))\n",
        "\n",
        "test_data = CIFAR10(root=\"data\",\n",
        "                    download=True,\n",
        "                    train=False,\n",
        "                    transform=transforms.Compose([\n",
        "                        transforms.Resize((32, 32)),\n",
        "                        transforms.ToTensor()]))\n"
      ],
      "metadata": {
        "id": "oCKkjUMRuyxW"
      },
      "execution_count": 4,
      "outputs": []
    },
    {
      "cell_type": "code",
      "source": [
        "# Verificando o tamanho\n",
        "len(train_data), len(test_data)"
      ],
      "metadata": {
        "colab": {
          "base_uri": "https://localhost:8080/"
        },
        "id": "sYZaB6V5vaQX",
        "outputId": "86b8fb5f-1ed2-4d9d-c6cc-275d7600d1c8"
      },
      "execution_count": 5,
      "outputs": [
        {
          "output_type": "execute_result",
          "data": {
            "text/plain": [
              "(50000, 10000)"
            ]
          },
          "metadata": {},
          "execution_count": 5
        }
      ]
    },
    {
      "cell_type": "code",
      "source": [
        "# Verificando a primeira imagem\n",
        "image, label = train_data[0]\n",
        "image, label"
      ],
      "metadata": {
        "colab": {
          "base_uri": "https://localhost:8080/"
        },
        "id": "46BJkJlqvghQ",
        "outputId": "19a9c695-ca64-489d-88a3-2bb622152a54"
      },
      "execution_count": 6,
      "outputs": [
        {
          "output_type": "execute_result",
          "data": {
            "text/plain": [
              "(tensor([[[0., 0., 0.,  ..., 0., 0., 0.],\n",
              "          [0., 0., 0.,  ..., 0., 0., 0.],\n",
              "          [0., 0., 0.,  ..., 0., 0., 0.],\n",
              "          ...,\n",
              "          [0., 0., 0.,  ..., 0., 0., 0.],\n",
              "          [0., 0., 0.,  ..., 0., 0., 0.],\n",
              "          [0., 0., 0.,  ..., 0., 0., 0.]],\n",
              " \n",
              "         [[0., 0., 0.,  ..., 0., 0., 0.],\n",
              "          [0., 0., 0.,  ..., 0., 0., 0.],\n",
              "          [0., 0., 0.,  ..., 0., 0., 0.],\n",
              "          ...,\n",
              "          [0., 0., 0.,  ..., 0., 0., 0.],\n",
              "          [0., 0., 0.,  ..., 0., 0., 0.],\n",
              "          [0., 0., 0.,  ..., 0., 0., 0.]],\n",
              " \n",
              "         [[0., 0., 0.,  ..., 0., 0., 0.],\n",
              "          [0., 0., 0.,  ..., 0., 0., 0.],\n",
              "          [0., 0., 0.,  ..., 0., 0., 0.],\n",
              "          ...,\n",
              "          [0., 0., 0.,  ..., 0., 0., 0.],\n",
              "          [0., 0., 0.,  ..., 0., 0., 0.],\n",
              "          [0., 0., 0.,  ..., 0., 0., 0.]]]),\n",
              " 6)"
            ]
          },
          "metadata": {},
          "execution_count": 6
        }
      ]
    },
    {
      "cell_type": "code",
      "source": [
        "# Veja o formato da imagem\n",
        "# o formato é [3, 32, 32] (canais de cores, altura, largura)\n",
        "image.shape"
      ],
      "metadata": {
        "colab": {
          "base_uri": "https://localhost:8080/"
        },
        "id": "mKUlAV8iviNE",
        "outputId": "35a14ce0-7966-4880-9800-bf64c6b65077"
      },
      "execution_count": 7,
      "outputs": [
        {
          "output_type": "execute_result",
          "data": {
            "text/plain": [
              "torch.Size([3, 32, 32])"
            ]
          },
          "metadata": {},
          "execution_count": 7
        }
      ]
    },
    {
      "cell_type": "code",
      "source": [
        "# Veja as classes\n",
        "class_names = train_data.classes\n",
        "class_names, len(class_names)"
      ],
      "metadata": {
        "colab": {
          "base_uri": "https://localhost:8080/"
        },
        "id": "TntDpcnGw4gO",
        "outputId": "7e50787f-a570-4011-e191-de01107c7c9f"
      },
      "execution_count": 8,
      "outputs": [
        {
          "output_type": "execute_result",
          "data": {
            "text/plain": [
              "(['airplane',\n",
              "  'automobile',\n",
              "  'bird',\n",
              "  'cat',\n",
              "  'deer',\n",
              "  'dog',\n",
              "  'frog',\n",
              "  'horse',\n",
              "  'ship',\n",
              "  'truck'],\n",
              " 10)"
            ]
          },
          "metadata": {},
          "execution_count": 8
        }
      ]
    },
    {
      "cell_type": "code",
      "source": [
        "# Vamos visualizar algumas imagens\n",
        "# Podemos ver também algumas transformações aplicadas\n",
        "\n",
        "fig = plt.figure(figsize=(9, 9))\n",
        "rows, cols = 4, 4\n",
        "for i in range(1, rows * cols + 1):\n",
        "    random_idx = torch.randint(0, len(train_data), size=[1]).item()\n",
        "    img, label = train_data[random_idx]\n",
        "    fig.add_subplot(rows, cols, i)\n",
        "    plt.imshow(img.squeeze().permute(1, 2, 0))\n",
        "    plt.title(class_names[label])\n",
        "    plt.axis(False)\n",
        "    plt.show()"
      ],
      "metadata": {
        "colab": {
          "base_uri": "https://localhost:8080/",
          "height": 1000
        },
        "id": "DhUPuMJhw95v",
        "outputId": "abda3c5f-8e0a-4f2a-fe15-1320f621ee82"
      },
      "execution_count": 9,
      "outputs": [
        {
          "output_type": "display_data",
          "data": {
            "text/plain": [
              "<Figure size 900x900 with 1 Axes>"
            ],
            "image/png": "[encoded data removed]"
          },
          "metadata": {}
        },
        {
          "output_type": "display_data",
          "data": {
            "text/plain": [
              "<Figure size 640x480 with 1 Axes>"
            ],
            "image/png": "[encoded data removed]"
          },
          "metadata": {}
        },
        {
          "output_type": "display_data",
          "data": {
            "text/plain": [
              "<Figure size 640x480 with 1 Axes>"
            ],
            "image/png": "[encoded data removed]"
          },
          "metadata": {}
        },
        {
          "output_type": "display_data",
          "data": {
            "text/plain": [
              "<Figure size 640x480 with 1 Axes>"
            ],
            "image/png": "[encoded data removed]"
          },
          "metadata": {}
        },
        {
          "output_type": "display_data",
          "data": {
            "text/plain": [
              "<Figure size 640x480 with 1 Axes>"
            ],
            "image/png": "[encoded data removed]"
          },
          "metadata": {}
        },
        {
          "output_type": "display_data",
          "data": {
            "text/plain": [
              "<Figure size 640x480 with 1 Axes>"
            ],
            "image/png": "[encoded data removed]"
          },
          "metadata": {}
        },
        {
          "output_type": "display_data",
          "data": {
            "text/plain": [
              "<Figure size 640x480 with 1 Axes>"
            ],
            "image/png": "[encoded data removed]"
          },
          "metadata": {}
        },
        {
          "output_type": "display_data",
          "data": {
            "text/plain": [
              "<Figure size 640x480 with 1 Axes>"
            ],
            "image/png": "[encoded data removed]"
          },
          "metadata": {}
        },
        {
          "output_type": "display_data",
          "data": {
            "text/plain": [
              "<Figure size 640x480 with 1 Axes>"
            ],
            "image/png": "[encoded data removed]"
          },
          "metadata": {}
        },
        {
          "output_type": "display_data",
          "data": {
            "text/plain": [
              "<Figure size 640x480 with 1 Axes>"
            ],
            "image/png": "[encoded data removed]"
          },
          "metadata": {}
        },
        {
          "output_type": "display_data",
          "data": {
            "text/plain": [
              "<Figure size 640x480 with 1 Axes>"
            ],
            "image/png": "[encoded data removed]"
          },
          "metadata": {}
        },
        {
          "output_type": "display_data",
          "data": {
            "text/plain": [
              "<Figure size 640x480 with 1 Axes>"
            ],
            "image/png": "[encoded data removed]"
          },
          "metadata": {}
        },
        {
          "output_type": "display_data",
          "data": {
            "text/plain": [
              "<Figure size 640x480 with 1 Axes>"
            ],
            "image/png": "[encoded data removed]"
          },
          "metadata": {}
        },
        {
          "output_type": "display_data",
          "data": {
            "text/plain": [
              "<Figure size 640x480 with 1 Axes>"
            ],
            "image/png": "[encoded data removed]"
          },
          "metadata": {}
        },
        {
          "output_type": "display_data",
          "data": {
            "text/plain": [
              "<Figure size 640x480 with 1 Axes>"
            ],
            "image/png": "[encoded data removed]"
          },
          "metadata": {}
        },
        {
          "output_type": "display_data",
          "data": {
            "text/plain": [
              "<Figure size 640x480 with 1 Axes>"
            ],
            "image/png": "[encoded data removed]"
          },
          "metadata": {}
        }
      ]
    },
    {
      "cell_type": "code",
      "source": [
        "# Definindo tamanho de batches de processamento\n",
        "BATCH_SIZE = 32\n",
        "\n",
        "# Transforma os datasets batches\n",
        "train_dataloader = DataLoader(train_data,\n",
        "                              batch_size=BATCH_SIZE,\n",
        "                              shuffle=True)\n",
        "\n",
        "test_dataloader = DataLoader(test_data,\n",
        "                             batch_size=BATCH_SIZE,\n",
        "                             shuffle=False)\n",
        "\n",
        "print(f\"Dataloaders: {train_dataloader, test_dataloader}\")\n",
        "print(f\"Tamanho do dataloader de treino: {len(train_dataloader)} batches de {BATCH_SIZE}\")\n",
        "print(f\"Tamanho do dataloader de teste: {len(test_dataloader)} batches de {BATCH_SIZE}\")"
      ],
      "metadata": {
        "colab": {
          "base_uri": "https://localhost:8080/"
        },
        "id": "fFMt7ervxsCw",
        "outputId": "c1601c66-1502-4c20-8d66-abe03aba2e5b"
      },
      "execution_count": 10,
      "outputs": [
        {
          "output_type": "stream",
          "name": "stdout",
          "text": [
            "Dataloaders: (<torch.utils.data.dataloader.DataLoader object at 0x795f20554d90>, <torch.utils.data.dataloader.DataLoader object at 0x795f20632d90>)\n",
            "Tamanho do dataloader de treino: 1563 batches de 32\n",
            "Tamanho do dataloader de teste: 313 batches de 32\n"
          ]
        }
      ]
    },
    {
      "cell_type": "code",
      "source": [
        "# Veja dentro do dataloader de treino\n",
        "# agora temo [batches, canais de cores, altura, largura]\n",
        "train_features_batch, train_labels_batch = next(iter(train_dataloader))\n",
        "train_features_batch.shape, train_labels_batch.shape"
      ],
      "metadata": {
        "colab": {
          "base_uri": "https://localhost:8080/"
        },
        "id": "45jrQbIvyBDB",
        "outputId": "7db4cec6-f80f-4628-ffe1-505d10070cb1"
      },
      "execution_count": 11,
      "outputs": [
        {
          "output_type": "execute_result",
          "data": {
            "text/plain": [
              "(torch.Size([32, 3, 32, 32]), torch.Size([32]))"
            ]
          },
          "metadata": {},
          "execution_count": 11
        }
      ]
    },
    {
      "cell_type": "code",
      "source": [
        "# Mostrando um mais exemplo\n",
        "random_idx = torch.randint(0, len(train_features_batch), size=[1]).item()\n",
        "img, label = train_features_batch[random_idx], train_labels_batch[random_idx]\n",
        "plt.imshow(img.squeeze().permute(1, 2, 0))\n",
        "plt.title(class_names[label])\n",
        "plt.axis(\"Off\");\n",
        "print(f\"Image size: {img.shape}\")\n",
        "print(f\"Label: {label}, label size: {label.shape}\")\n",
        "plt.show()"
      ],
      "metadata": {
        "colab": {
          "base_uri": "https://localhost:8080/",
          "height": 465
        },
        "id": "rf7rvprzykpu",
        "outputId": "a44ada4e-7fc5-4170-8567-e996051ebf14"
      },
      "execution_count": 12,
      "outputs": [
        {
          "output_type": "stream",
          "name": "stdout",
          "text": [
            "Image size: torch.Size([3, 32, 32])\n",
            "Label: 1, label size: torch.Size([])\n"
          ]
        },
        {
          "output_type": "display_data",
          "data": {
            "text/plain": [
              "<Figure size 640x480 with 1 Axes>"
            ],
            "image/png": "[encoded data removed]"
          },
          "metadata": {}
        }
      ]
    },
    {
      "cell_type": "markdown",
      "source": [
        "## Criando o modelo base para teste - Model 0"
      ],
      "metadata": {
        "id": "Fy2Id7MOyyxa"
      }
    },
    {
      "cell_type": "code",
      "source": [
        "# Model 0\n",
        "\n",
        "\n",
        "class CIFAR10ModelV0(nn.Module):\n",
        "    def __init__(self,\n",
        "                 input_shape: int,\n",
        "                 hidden_units: int,\n",
        "                 output_shape: int):\n",
        "        super().__init__()\n",
        "        self.conv_block_1 = nn.Sequential(\n",
        "            nn.Conv2d(in_channels=input_shape,\n",
        "                      out_channels=hidden_units,\n",
        "                      kernel_size=2,\n",
        "                      stride=1,\n",
        "                      padding=0),\n",
        "            nn.ReLU(),\n",
        "            nn.Conv2d(in_channels=hidden_units,\n",
        "                      out_channels=hidden_units,\n",
        "                      kernel_size=2,\n",
        "                      stride=1,\n",
        "                      padding=0),\n",
        "            nn.ReLU(),\n",
        "            nn.MaxPool2d(kernel_size=2, stride=2)\n",
        "        )\n",
        "        self.conv_block_2 = nn.Sequential(\n",
        "            nn.Conv2d(hidden_units, hidden_units, 2, 1, 0),\n",
        "            nn.ReLU(),\n",
        "            nn.Conv2d(hidden_units, hidden_units, 2, 1, 0),\n",
        "            nn.ReLU(),\n",
        "            nn.MaxPool2d(kernel_size=2, stride=2)\n",
        "            )\n",
        "        self.classifier = nn.Sequential(\n",
        "            nn.Flatten(),\n",
        "            nn.Linear(in_features=hidden_units * 36,\n",
        "                      out_features=output_shape)\n",
        "        )\n",
        "\n",
        "    def forward(self, x: torch.Tensor):\n",
        "        return self.classifier(self.conv_block_2(self.conv_block_1(x)))"
      ],
      "metadata": {
        "id": "7czZlkxeytqV"
      },
      "execution_count": 13,
      "outputs": []
    },
    {
      "cell_type": "markdown",
      "source": [
        "Estamos usando super().__init__() dentro da sua classe CIFAR10ModelV0 para chamar o construtor da classe pai, que nesse caso é nn.Module — a base de todos os modelos em PyTorch.\n",
        "\n",
        "\n",
        "### ✅ Por que usar super().__init__()?\n",
        "Inicializa o comportamento interno do PyTorch corretamente:\n",
        "   \n",
        "*  Isso configura o modelo para funcionar com .parameters(), .to(device), .eval(), .train() e backpropagation automática.\n",
        "* Sem isso, o PyTorch não sabe que sua classe é um módulo com parâmetros treináveis.\n",
        "\n",
        "Evita erros e perda de funcionalidades:\n",
        "\n",
        "\n",
        "*   Se você não chamar super(), métodos essenciais do nn.Module não serão ativados, como o registro de submódulos (self.conv_block_1, etc.), e o modelo não funcionará corretamente em treinamento ou avaliação.\n",
        "*   É a forma correta e segura de estender uma classe base em Python (herança).\n"
      ],
      "metadata": {
        "id": "HDjNtaDsztsJ"
      }
    },
    {
      "cell_type": "code",
      "source": [
        "# Modelo com os parâmetros de entrada\n",
        "model_0 = CIFAR10ModelV0(input_shape=3, # RBG\n",
        "    hidden_units=10, # quantas unidades na camada oculta\n",
        "    output_shape=len(class_names) # output = um para cada classe (10)\n",
        ").to(device)\n",
        "\n",
        "model_0"
      ],
      "metadata": {
        "colab": {
          "base_uri": "https://localhost:8080/"
        },
        "id": "y6-M4a0eyyHo",
        "outputId": "e65cb2e5-5d30-4d46-db6e-bb2e95bc2ce0"
      },
      "execution_count": 14,
      "outputs": [
        {
          "output_type": "execute_result",
          "data": {
            "text/plain": [
              "CIFAR10ModelV0(\n",
              "  (conv_block_1): Sequential(\n",
              "    (0): Conv2d(3, 10, kernel_size=(2, 2), stride=(1, 1))\n",
              "    (1): ReLU()\n",
              "    (2): Conv2d(10, 10, kernel_size=(2, 2), stride=(1, 1))\n",
              "    (3): ReLU()\n",
              "    (4): MaxPool2d(kernel_size=2, stride=2, padding=0, dilation=1, ceil_mode=False)\n",
              "  )\n",
              "  (conv_block_2): Sequential(\n",
              "    (0): Conv2d(10, 10, kernel_size=(2, 2), stride=(1, 1))\n",
              "    (1): ReLU()\n",
              "    (2): Conv2d(10, 10, kernel_size=(2, 2), stride=(1, 1))\n",
              "    (3): ReLU()\n",
              "    (4): MaxPool2d(kernel_size=2, stride=2, padding=0, dilation=1, ceil_mode=False)\n",
              "  )\n",
              "  (classifier): Sequential(\n",
              "    (0): Flatten(start_dim=1, end_dim=-1)\n",
              "    (1): Linear(in_features=360, out_features=10, bias=True)\n",
              "  )\n",
              ")"
            ]
          },
          "metadata": {},
          "execution_count": 14
        }
      ]
    },
    {
      "cell_type": "code",
      "source": [
        "# Função de perda e otimizador\n",
        "loss_fn = nn.CrossEntropyLoss()\n",
        "optimizer = torch.optim.SGD(params=model_0.parameters(), lr=0.01)"
      ],
      "metadata": {
        "id": "NfZOOZgh0GUA"
      },
      "execution_count": 15,
      "outputs": []
    },
    {
      "cell_type": "code",
      "source": [
        "# Função para medir o tempo de treino\n",
        "from timeit import default_timer as timer\n",
        "def print_train_time(start: float, end: float, device: torch.device = None):\n",
        "    \"\"\"\n",
        "    Returns difference between the start and end time.\n",
        "\n",
        "    Args:\n",
        "        start (float): Start time of computation (preferred in timeit format).\n",
        "        end (float): End time of computation.\n",
        "        device ([type], optional): Device that compute is running on.\n",
        "        Defaults to None.\n",
        "\n",
        "    Returns:\n",
        "        float: time between start and end in seconds (higher is longer).\n",
        "    \"\"\"\n",
        "    total_time = end - start\n",
        "    print(f\"Train time on {device}: {total_time:.3f} seconds\")\n",
        "    return total_time"
      ],
      "metadata": {
        "id": "xWdT6XPB1JXm"
      },
      "execution_count": 16,
      "outputs": []
    },
    {
      "cell_type": "code",
      "source": [
        "# instala métrica de acurácia\n",
        "\n",
        "!pip install torchmetrics\n",
        "from torchmetrics.classification import Accuracy\n",
        "import torch\n",
        "\n",
        "accuracy_fn = Accuracy(task=\"multiclass\", num_classes=len(class_names)).to(device)\n"
      ],
      "metadata": {
        "colab": {
          "base_uri": "https://localhost:8080/"
        },
        "id": "sKI_9z5U2Hm-",
        "outputId": "db689040-bef4-4d33-9278-5bc83649c0c1"
      },
      "execution_count": 17,
      "outputs": [
        {
          "output_type": "stream",
          "name": "stdout",
          "text": [
            "Requirement already satisfied: torchmetrics in /usr/local/lib/python3.11/dist-packages (1.7.1)\n",
            "Requirement already satisfied: numpy>1.20.0 in /usr/local/lib/python3.11/dist-packages (from torchmetrics) (2.0.2)\n",
            "Requirement already satisfied: packaging>17.1 in /usr/local/lib/python3.11/dist-packages (from torchmetrics) (24.2)\n",
            "Requirement already satisfied: torch>=2.0.0 in /usr/local/lib/python3.11/dist-packages (from torchmetrics) (2.6.0+cu124)\n",
            "Requirement already satisfied: lightning-utilities>=0.8.0 in /usr/local/lib/python3.11/dist-packages (from torchmetrics) (0.14.3)\n",
            "Requirement already satisfied: setuptools in /usr/local/lib/python3.11/dist-packages (from lightning-utilities>=0.8.0->torchmetrics) (75.2.0)\n",
            "Requirement already satisfied: typing_extensions in /usr/local/lib/python3.11/dist-packages (from lightning-utilities>=0.8.0->torchmetrics) (4.13.2)\n",
            "Requirement already satisfied: filelock in /usr/local/lib/python3.11/dist-packages (from torch>=2.0.0->torchmetrics) (3.18.0)\n",
            "Requirement already satisfied: networkx in /usr/local/lib/python3.11/dist-packages (from torch>=2.0.0->torchmetrics) (3.4.2)\n",
            "Requirement already satisfied: jinja2 in /usr/local/lib/python3.11/dist-packages (from torch>=2.0.0->torchmetrics) (3.1.6)\n",
            "Requirement already satisfied: fsspec in /usr/local/lib/python3.11/dist-packages (from torch>=2.0.0->torchmetrics) (2025.3.2)\n",
            "Requirement already satisfied: nvidia-cuda-nvrtc-cu12==12.4.127 in /usr/local/lib/python3.11/dist-packages (from torch>=2.0.0->torchmetrics) (12.4.127)\n",
            "Requirement already satisfied: nvidia-cuda-runtime-cu12==12.4.127 in /usr/local/lib/python3.11/dist-packages (from torch>=2.0.0->torchmetrics) (12.4.127)\n",
            "Requirement already satisfied: nvidia-cuda-cupti-cu12==12.4.127 in /usr/local/lib/python3.11/dist-packages (from torch>=2.0.0->torchmetrics) (12.4.127)\n",
            "Requirement already satisfied: nvidia-cudnn-cu12==9.1.0.70 in /usr/local/lib/python3.11/dist-packages (from torch>=2.0.0->torchmetrics) (9.1.0.70)\n",
            "Requirement already satisfied: nvidia-cublas-cu12==12.4.5.8 in /usr/local/lib/python3.11/dist-packages (from torch>=2.0.0->torchmetrics) (12.4.5.8)\n",
            "Requirement already satisfied: nvidia-cufft-cu12==11.2.1.3 in /usr/local/lib/python3.11/dist-packages (from torch>=2.0.0->torchmetrics) (11.2.1.3)\n",
            "Requirement already satisfied: nvidia-curand-cu12==10.3.5.147 in /usr/local/lib/python3.11/dist-packages (from torch>=2.0.0->torchmetrics) (10.3.5.147)\n",
            "Requirement already satisfied: nvidia-cusolver-cu12==11.6.1.9 in /usr/local/lib/python3.11/dist-packages (from torch>=2.0.0->torchmetrics) (11.6.1.9)\n",
            "Requirement already satisfied: nvidia-cusparse-cu12==12.3.1.170 in /usr/local/lib/python3.11/dist-packages (from torch>=2.0.0->torchmetrics) (12.3.1.170)\n",
            "Requirement already satisfied: nvidia-cusparselt-cu12==0.6.2 in /usr/local/lib/python3.11/dist-packages (from torch>=2.0.0->torchmetrics) (0.6.2)\n",
            "Requirement already satisfied: nvidia-nccl-cu12==2.21.5 in /usr/local/lib/python3.11/dist-packages (from torch>=2.0.0->torchmetrics) (2.21.5)\n",
            "Requirement already satisfied: nvidia-nvtx-cu12==12.4.127 in /usr/local/lib/python3.11/dist-packages (from torch>=2.0.0->torchmetrics) (12.4.127)\n",
            "Requirement already satisfied: nvidia-nvjitlink-cu12==12.4.127 in /usr/local/lib/python3.11/dist-packages (from torch>=2.0.0->torchmetrics) (12.4.127)\n",
            "Requirement already satisfied: triton==3.2.0 in /usr/local/lib/python3.11/dist-packages (from torch>=2.0.0->torchmetrics) (3.2.0)\n",
            "Requirement already satisfied: sympy==1.13.1 in /usr/local/lib/python3.11/dist-packages (from torch>=2.0.0->torchmetrics) (1.13.1)\n",
            "Requirement already satisfied: mpmath<1.4,>=1.1.0 in /usr/local/lib/python3.11/dist-packages (from sympy==1.13.1->torch>=2.0.0->torchmetrics) (1.3.0)\n",
            "Requirement already satisfied: MarkupSafe>=2.0 in /usr/local/lib/python3.11/dist-packages (from jinja2->torch>=2.0.0->torchmetrics) (3.0.2)\n"
          ]
        }
      ]
    },
    {
      "cell_type": "code",
      "source": [
        "# Funções de treino e teste\n",
        "\n",
        "def train_step(model, data_loader, loss_fn, optimizer, accuracy_fn, device):\n",
        "    model.train()\n",
        "    model.to(device)\n",
        "    train_loss = 0\n",
        "\n",
        "    accuracy_fn.reset()  # Zera o estado interno da métrica\n",
        "\n",
        "    for X, y in data_loader:\n",
        "        X, y = X.to(device), y.to(device)\n",
        "\n",
        "        # Forward\n",
        "        y_pred = model(X)\n",
        "\n",
        "        # Loss\n",
        "        loss = loss_fn(y_pred, y)\n",
        "        train_loss += loss.item()\n",
        "\n",
        "        # Backprop\n",
        "        optimizer.zero_grad()\n",
        "        loss.backward()\n",
        "        optimizer.step()\n",
        "\n",
        "        # Atualiza a acurácia\n",
        "        accuracy_fn.update(y_pred, y)\n",
        "\n",
        "    train_acc = accuracy_fn.compute().item() * 100  # Retorna acurácia acumulada\n",
        "    train_loss /= len(data_loader)\n",
        "\n",
        "    print(f\"Train loss: {train_loss:.5f} | Train accuracy: {train_acc:.2f}%\\n\")\n",
        "\n",
        "\n",
        "\n",
        "def test_step(data_loader, model, loss_fn, accuracy_fn, device):\n",
        "    model.eval()\n",
        "    model.to(device)\n",
        "    test_loss = 0\n",
        "\n",
        "    accuracy_fn.reset()\n",
        "\n",
        "    with torch.inference_mode():\n",
        "        for X, y in data_loader:\n",
        "            X, y = X.to(device), y.to(device)\n",
        "\n",
        "            y_pred = model(X)\n",
        "            test_loss += loss_fn(y_pred, y).item()\n",
        "            accuracy_fn.update(y_pred, y)\n",
        "\n",
        "    test_acc = accuracy_fn.compute().item() * 100\n",
        "    test_loss /= len(data_loader)\n",
        "\n",
        "    print(f\"Test loss: {test_loss:.5f} | Test accuracy: {test_acc:.2f}%\\n\")\n",
        "\n"
      ],
      "metadata": {
        "id": "JbQJZLic1Rf_"
      },
      "execution_count": 18,
      "outputs": []
    },
    {
      "cell_type": "code",
      "source": [
        "# Medir o tempo\n",
        "from tqdm.auto import tqdm\n",
        "from timeit import default_timer as timer\n",
        "train_time_start_on_gpu = timer()\n",
        "\n",
        "epochs = 10\n",
        "for epoch in tqdm(range(epochs)):\n",
        "    print(f\"Epoch: {epoch}\\n{50 * '-'}\")\n",
        "    train_step(data_loader=train_dataloader,\n",
        "        model=model_0,\n",
        "        loss_fn=loss_fn,\n",
        "        optimizer=optimizer,\n",
        "        accuracy_fn=accuracy_fn,\n",
        "        device=device\n",
        "    )\n",
        "    test_step(data_loader=test_dataloader,\n",
        "        model=model_0,\n",
        "        loss_fn=loss_fn,\n",
        "        accuracy_fn=accuracy_fn,\n",
        "        device=device\n",
        "    )\n",
        "\n",
        "train_time_end_on_gpu = timer()\n",
        "total_train_time_model_0 = print_train_time(start=train_time_start_on_gpu,\n",
        "                                            end=train_time_end_on_gpu,\n",
        "                                            device=device)"
      ],
      "metadata": {
        "colab": {
          "base_uri": "https://localhost:8080/",
          "height": 1000,
          "referenced_widgets": [
            "5dab206126d346cfaff87729d79ebc5d",
            "345198f64bb24d0f8141b09c735b7606",
            "9ad5eb7fab61444081e72f9e2c6e3a9a",
            "17b9056750384d24a2bf8a85b6ee82b5",
            "c94f54db4e784544ab92a47ee94ebcf3",
            "9e0cc7e9225a4eaaa4062f245b11c091",
            "afc81ec22fa848b58ba002757683fd14",
            "8f749575ba4e4c128e30a46abd79af90",
            "f8befeca049e4298bf8cb96fe1099cdf",
            "d32fac0cd7854c7fb776544f1d7918c0",
            "7fb4b5d926144253a79b0567a4680c32"
          ]
        },
        "id": "-E3IWVgg3MO4",
        "outputId": "bcbdbe1d-d609-42a4-ed4b-38a84a02545e"
      },
      "execution_count": 19,
      "outputs": [
        {
          "output_type": "display_data",
          "data": {
            "text/plain": [
              "  0%|          | 0/10 [00:00<?, ?it/s]"
            ],
            "application/vnd.jupyter.widget-view+json": {
              "version_major": 2,
              "version_minor": 0,
              "model_id": "5dab206126d346cfaff87729d79ebc5d"
            }
          },
          "metadata": {}
        },
        {
          "output_type": "stream",
          "name": "stdout",
          "text": [
            "Epoch: 0\n",
            "--------------------------------------------------\n",
            "Train loss: 2.30293 | Train accuracy: 10.07%\n",
            "\n",
            "Test loss: 2.30256 | Test accuracy: 10.00%\n",
            "\n",
            "Epoch: 1\n",
            "--------------------------------------------------\n",
            "Train loss: 2.30267 | Train accuracy: 9.92%\n",
            "\n",
            "Test loss: 2.30247 | Test accuracy: 10.01%\n",
            "\n",
            "Epoch: 2\n",
            "--------------------------------------------------\n",
            "Train loss: 2.30247 | Train accuracy: 10.41%\n",
            "\n",
            "Test loss: 2.30194 | Test accuracy: 10.00%\n",
            "\n",
            "Epoch: 3\n",
            "--------------------------------------------------\n",
            "Train loss: 2.30145 | Train accuracy: 10.69%\n",
            "\n",
            "Test loss: 2.29834 | Test accuracy: 14.03%\n",
            "\n",
            "Epoch: 4\n",
            "--------------------------------------------------\n",
            "Train loss: 2.28034 | Train accuracy: 14.74%\n",
            "\n",
            "Test loss: 2.17062 | Test accuracy: 21.47%\n",
            "\n",
            "Epoch: 5\n",
            "--------------------------------------------------\n",
            "Train loss: 2.21920 | Train accuracy: 19.27%\n",
            "\n",
            "Test loss: 2.11103 | Test accuracy: 23.62%\n",
            "\n",
            "Epoch: 6\n",
            "--------------------------------------------------\n",
            "Train loss: 2.19330 | Train accuracy: 21.36%\n",
            "\n",
            "Test loss: 2.07267 | Test accuracy: 26.54%\n",
            "\n",
            "Epoch: 7\n",
            "--------------------------------------------------\n",
            "Train loss: 2.13276 | Train accuracy: 23.10%\n",
            "\n",
            "Test loss: 1.97992 | Test accuracy: 29.26%\n",
            "\n",
            "Epoch: 8\n",
            "--------------------------------------------------\n",
            "Train loss: 2.07177 | Train accuracy: 24.96%\n",
            "\n",
            "Test loss: 2.08524 | Test accuracy: 24.49%\n",
            "\n",
            "Epoch: 9\n",
            "--------------------------------------------------\n",
            "Train loss: 2.01830 | Train accuracy: 27.33%\n",
            "\n",
            "Test loss: 1.95976 | Test accuracy: 29.20%\n",
            "\n",
            "Train time on cuda: 271.446 seconds\n"
          ]
        }
      ]
    },
    {
      "cell_type": "markdown",
      "source": [
        "### CNN Model 0 teve uma performance ruim, vamos tentar com Transfer Learning\n",
        "\n",
        "Usando a arquitetura do [MobileNet_V3_Large](https://arxiv.org/abs/1905.02244).\n",
        "\n",
        "Veja a documentação: https://pytorch.org/vision/main/models/generated/torchvision.models.mobilenet_v3_large.html#torchvision.models.MobileNet_V3_Large_Weights"
      ],
      "metadata": {
        "id": "LxjE8ABk4lQd"
      }
    },
    {
      "cell_type": "code",
      "source": [
        "# Pesos do modelo\n",
        "weights = torchvision.models.MobileNet_V3_Large_Weights.DEFAULT\n",
        "weights"
      ],
      "metadata": {
        "colab": {
          "base_uri": "https://localhost:8080/"
        },
        "id": "VOGQluK94zTg",
        "outputId": "9e4e2a5a-b456-489c-8f3a-f662cb93e4f3"
      },
      "execution_count": 20,
      "outputs": [
        {
          "output_type": "execute_result",
          "data": {
            "text/plain": [
              "MobileNet_V3_Large_Weights.IMAGENET1K_V2"
            ]
          },
          "metadata": {},
          "execution_count": 20
        }
      ]
    },
    {
      "cell_type": "code",
      "source": [
        "# Transforma os pesos\n",
        "mobile_transforms = weights.transforms()\n",
        "mobile_transforms"
      ],
      "metadata": {
        "colab": {
          "base_uri": "https://localhost:8080/"
        },
        "id": "Zdo-_G5Q4606",
        "outputId": "f29fe4f5-8dde-44fc-8cd7-d5bab73ebde7"
      },
      "execution_count": 21,
      "outputs": [
        {
          "output_type": "execute_result",
          "data": {
            "text/plain": [
              "ImageClassification(\n",
              "    crop_size=[224]\n",
              "    resize_size=[232]\n",
              "    mean=[0.485, 0.456, 0.406]\n",
              "    std=[0.229, 0.224, 0.225]\n",
              "    interpolation=InterpolationMode.BILINEAR\n",
              ")"
            ]
          },
          "metadata": {},
          "execution_count": 21
        }
      ]
    },
    {
      "cell_type": "code",
      "source": [
        "BATCH_SIZE = 32\n",
        "\n",
        "# Dados com os novos transforms\n",
        "train_data = CIFAR10(root=\"data\",\n",
        "                     download=True,\n",
        "                     train=True,\n",
        "                     transform=transforms.Compose([\n",
        "                          transforms.ToTensor(),\n",
        "                          mobile_transforms]))\n",
        "\n",
        "test_data = CIFAR10(root=\"data\",\n",
        "                    download=True,\n",
        "                    train=False,\n",
        "                    transform=transforms.Compose([\n",
        "                        transforms.ToTensor(),\n",
        "                        mobile_transforms]))\n",
        "\n",
        "\n",
        "# Dataloaders\n",
        "train_dataloader = DataLoader(train_data,\n",
        "                              batch_size=BATCH_SIZE,\n",
        "                              shuffle=True)\n",
        "\n",
        "test_dataloader = DataLoader(test_data,\n",
        "                             batch_size=BATCH_SIZE,\n",
        "                             shuffle=False)"
      ],
      "metadata": {
        "id": "MQjre8MU5FKl"
      },
      "execution_count": 22,
      "outputs": []
    },
    {
      "cell_type": "code",
      "source": [
        "# Sumário\n",
        "model_1 = torchvision.models.mobilenet_v3_large(weights=weights).to(device)\n",
        "\n",
        "summary(model=model_1,\n",
        "        input_size=(32, 3, 224, 224),\n",
        "        col_names=[\"input_size\", \"output_size\", \"num_params\", \"trainable\"],\n",
        "        col_width=20,\n",
        "        row_settings=[\"var_names\"]\n",
        ")"
      ],
      "metadata": {
        "colab": {
          "base_uri": "https://localhost:8080/"
        },
        "id": "c54Fhkb56RnX",
        "outputId": "f082759c-c594-4ce3-90e9-bd0da2b1356c"
      },
      "execution_count": 23,
      "outputs": [
        {
          "output_type": "stream",
          "name": "stderr",
          "text": [
            "Downloading: \"https://download.pytorch.org/models/mobilenet_v3_large-5c1a4163.pth\" to /root/.cache/torch/hub/checkpoints/mobilenet_v3_large-5c1a4163.pth\n",
            "100%|██████████| 21.1M/21.1M [00:00<00:00, 59.8MB/s]\n"
          ]
        },
        {
          "output_type": "execute_result",
          "data": {
            "text/plain": [
              "============================================================================================================================================\n",
              "Layer (type (var_name))                                      Input Shape          Output Shape         Param #              Trainable\n",
              "============================================================================================================================================\n",
              "MobileNetV3 (MobileNetV3)                                    [32, 3, 224, 224]    [32, 1000]           --                   True\n",
              "├─Sequential (features)                                      [32, 3, 224, 224]    [32, 960, 7, 7]      --                   True\n",
              "│    └─Conv2dNormActivation (0)                              [32, 3, 224, 224]    [32, 16, 112, 112]   --                   True\n",
              "│    │    └─Conv2d (0)                                       [32, 3, 224, 224]    [32, 16, 112, 112]   432                  True\n",
              "│    │    └─BatchNorm2d (1)                                  [32, 16, 112, 112]   [32, 16, 112, 112]   32                   True\n",
              "│    │    └─Hardswish (2)                                    [32, 16, 112, 112]   [32, 16, 112, 112]   --                   --\n",
              "│    └─InvertedResidual (1)                                  [32, 16, 112, 112]   [32, 16, 112, 112]   --                   True\n",
              "│    │    └─Sequential (block)                               [32, 16, 112, 112]   [32, 16, 112, 112]   464                  True\n",
              "│    └─InvertedResidual (2)                                  [32, 16, 112, 112]   [32, 24, 56, 56]     --                   True\n",
              "│    │    └─Sequential (block)                               [32, 16, 112, 112]   [32, 24, 56, 56]     3,440                True\n",
              "│    └─InvertedResidual (3)                                  [32, 24, 56, 56]     [32, 24, 56, 56]     --                   True\n",
              "│    │    └─Sequential (block)                               [32, 24, 56, 56]     [32, 24, 56, 56]     4,440                True\n",
              "│    └─InvertedResidual (4)                                  [32, 24, 56, 56]     [32, 40, 28, 28]     --                   True\n",
              "│    │    └─Sequential (block)                               [32, 24, 56, 56]     [32, 40, 28, 28]     10,328               True\n",
              "│    └─InvertedResidual (5)                                  [32, 40, 28, 28]     [32, 40, 28, 28]     --                   True\n",
              "│    │    └─Sequential (block)                               [32, 40, 28, 28]     [32, 40, 28, 28]     20,992               True\n",
              "│    └─InvertedResidual (6)                                  [32, 40, 28, 28]     [32, 40, 28, 28]     --                   True\n",
              "│    │    └─Sequential (block)                               [32, 40, 28, 28]     [32, 40, 28, 28]     20,992               True\n",
              "│    └─InvertedResidual (7)                                  [32, 40, 28, 28]     [32, 80, 14, 14]     --                   True\n",
              "│    │    └─Sequential (block)                               [32, 40, 28, 28]     [32, 80, 14, 14]     32,080               True\n",
              "│    └─InvertedResidual (8)                                  [32, 80, 14, 14]     [32, 80, 14, 14]     --                   True\n",
              "│    │    └─Sequential (block)                               [32, 80, 14, 14]     [32, 80, 14, 14]     34,760               True\n",
              "│    └─InvertedResidual (9)                                  [32, 80, 14, 14]     [32, 80, 14, 14]     --                   True\n",
              "│    │    └─Sequential (block)                               [32, 80, 14, 14]     [32, 80, 14, 14]     31,992               True\n",
              "│    └─InvertedResidual (10)                                 [32, 80, 14, 14]     [32, 80, 14, 14]     --                   True\n",
              "│    │    └─Sequential (block)                               [32, 80, 14, 14]     [32, 80, 14, 14]     31,992               True\n",
              "│    └─InvertedResidual (11)                                 [32, 80, 14, 14]     [32, 112, 14, 14]    --                   True\n",
              "│    │    └─Sequential (block)                               [32, 80, 14, 14]     [32, 112, 14, 14]    214,424              True\n",
              "│    └─InvertedResidual (12)                                 [32, 112, 14, 14]    [32, 112, 14, 14]    --                   True\n",
              "│    │    └─Sequential (block)                               [32, 112, 14, 14]    [32, 112, 14, 14]    386,120              True\n",
              "│    └─InvertedResidual (13)                                 [32, 112, 14, 14]    [32, 160, 7, 7]      --                   True\n",
              "│    │    └─Sequential (block)                               [32, 112, 14, 14]    [32, 160, 7, 7]      429,224              True\n",
              "│    └─InvertedResidual (14)                                 [32, 160, 7, 7]      [32, 160, 7, 7]      --                   True\n",
              "│    │    └─Sequential (block)                               [32, 160, 7, 7]      [32, 160, 7, 7]      797,360              True\n",
              "│    └─InvertedResidual (15)                                 [32, 160, 7, 7]      [32, 160, 7, 7]      --                   True\n",
              "│    │    └─Sequential (block)                               [32, 160, 7, 7]      [32, 160, 7, 7]      797,360              True\n",
              "│    └─Conv2dNormActivation (16)                             [32, 160, 7, 7]      [32, 960, 7, 7]      --                   True\n",
              "│    │    └─Conv2d (0)                                       [32, 160, 7, 7]      [32, 960, 7, 7]      153,600              True\n",
              "│    │    └─BatchNorm2d (1)                                  [32, 960, 7, 7]      [32, 960, 7, 7]      1,920                True\n",
              "│    │    └─Hardswish (2)                                    [32, 960, 7, 7]      [32, 960, 7, 7]      --                   --\n",
              "├─AdaptiveAvgPool2d (avgpool)                                [32, 960, 7, 7]      [32, 960, 1, 1]      --                   --\n",
              "├─Sequential (classifier)                                    [32, 960]            [32, 1000]           --                   True\n",
              "│    └─Linear (0)                                            [32, 960]            [32, 1280]           1,230,080            True\n",
              "│    └─Hardswish (1)                                         [32, 1280]           [32, 1280]           --                   --\n",
              "│    └─Dropout (2)                                           [32, 1280]           [32, 1280]           --                   --\n",
              "│    └─Linear (3)                                            [32, 1280]           [32, 1000]           1,281,000            True\n",
              "============================================================================================================================================\n",
              "Total params: 5,483,032\n",
              "Trainable params: 5,483,032\n",
              "Non-trainable params: 0\n",
              "Total mult-adds (Units.GIGABYTES): 6.93\n",
              "============================================================================================================================================\n",
              "Input size (MB): 19.27\n",
              "Forward/backward pass size (MB): 2254.59\n",
              "Params size (MB): 21.93\n",
              "Estimated Total Size (MB): 2295.79\n",
              "============================================================================================================================================"
            ]
          },
          "metadata": {},
          "execution_count": 23
        }
      ]
    },
    {
      "cell_type": "code",
      "source": [
        "# Vamos congelar os parâmetros para treinar somente a camda de classificação\n",
        "for param in model_1.parameters():\n",
        "    param.requires_grad = False"
      ],
      "metadata": {
        "id": "klH3J6tR6Y-1"
      },
      "execution_count": 24,
      "outputs": []
    },
    {
      "cell_type": "code",
      "source": [
        "# Recriando a camada de classificação\n",
        "model_1.classifier = torch.nn.Sequential(\n",
        "    torch.nn.Linear(in_features=960,\n",
        "                    out_features=len(class_names),\n",
        "                    bias=True)).to(device)"
      ],
      "metadata": {
        "id": "l2CYTu6D6gtl"
      },
      "execution_count": 25,
      "outputs": []
    },
    {
      "cell_type": "code",
      "source": [
        "# Novo sumário\n",
        "summary(model=model_1,\n",
        "        input_size=(32, 3, 224, 224),\n",
        "        col_names=[\"input_size\", \"output_size\", \"num_params\", \"trainable\"],\n",
        "        col_width=20,\n",
        "        row_settings=[\"var_names\"]\n",
        ")"
      ],
      "metadata": {
        "colab": {
          "base_uri": "https://localhost:8080/"
        },
        "id": "-aveF_l_6prK",
        "outputId": "fadbcbd3-f767-45ae-8c24-fe1dcc3e362c"
      },
      "execution_count": 26,
      "outputs": [
        {
          "output_type": "execute_result",
          "data": {
            "text/plain": [
              "============================================================================================================================================\n",
              "Layer (type (var_name))                                      Input Shape          Output Shape         Param #              Trainable\n",
              "============================================================================================================================================\n",
              "MobileNetV3 (MobileNetV3)                                    [32, 3, 224, 224]    [32, 10]             --                   Partial\n",
              "├─Sequential (features)                                      [32, 3, 224, 224]    [32, 960, 7, 7]      --                   False\n",
              "│    └─Conv2dNormActivation (0)                              [32, 3, 224, 224]    [32, 16, 112, 112]   --                   False\n",
              "│    │    └─Conv2d (0)                                       [32, 3, 224, 224]    [32, 16, 112, 112]   (432)                False\n",
              "│    │    └─BatchNorm2d (1)                                  [32, 16, 112, 112]   [32, 16, 112, 112]   (32)                 False\n",
              "│    │    └─Hardswish (2)                                    [32, 16, 112, 112]   [32, 16, 112, 112]   --                   --\n",
              "│    └─InvertedResidual (1)                                  [32, 16, 112, 112]   [32, 16, 112, 112]   --                   False\n",
              "│    │    └─Sequential (block)                               [32, 16, 112, 112]   [32, 16, 112, 112]   (464)                False\n",
              "│    └─InvertedResidual (2)                                  [32, 16, 112, 112]   [32, 24, 56, 56]     --                   False\n",
              "│    │    └─Sequential (block)                               [32, 16, 112, 112]   [32, 24, 56, 56]     (3,440)              False\n",
              "│    └─InvertedResidual (3)                                  [32, 24, 56, 56]     [32, 24, 56, 56]     --                   False\n",
              "│    │    └─Sequential (block)                               [32, 24, 56, 56]     [32, 24, 56, 56]     (4,440)              False\n",
              "│    └─InvertedResidual (4)                                  [32, 24, 56, 56]     [32, 40, 28, 28]     --                   False\n",
              "│    │    └─Sequential (block)                               [32, 24, 56, 56]     [32, 40, 28, 28]     (10,328)             False\n",
              "│    └─InvertedResidual (5)                                  [32, 40, 28, 28]     [32, 40, 28, 28]     --                   False\n",
              "│    │    └─Sequential (block)                               [32, 40, 28, 28]     [32, 40, 28, 28]     (20,992)             False\n",
              "│    └─InvertedResidual (6)                                  [32, 40, 28, 28]     [32, 40, 28, 28]     --                   False\n",
              "│    │    └─Sequential (block)                               [32, 40, 28, 28]     [32, 40, 28, 28]     (20,992)             False\n",
              "│    └─InvertedResidual (7)                                  [32, 40, 28, 28]     [32, 80, 14, 14]     --                   False\n",
              "│    │    └─Sequential (block)                               [32, 40, 28, 28]     [32, 80, 14, 14]     (32,080)             False\n",
              "│    └─InvertedResidual (8)                                  [32, 80, 14, 14]     [32, 80, 14, 14]     --                   False\n",
              "│    │    └─Sequential (block)                               [32, 80, 14, 14]     [32, 80, 14, 14]     (34,760)             False\n",
              "│    └─InvertedResidual (9)                                  [32, 80, 14, 14]     [32, 80, 14, 14]     --                   False\n",
              "│    │    └─Sequential (block)                               [32, 80, 14, 14]     [32, 80, 14, 14]     (31,992)             False\n",
              "│    └─InvertedResidual (10)                                 [32, 80, 14, 14]     [32, 80, 14, 14]     --                   False\n",
              "│    │    └─Sequential (block)                               [32, 80, 14, 14]     [32, 80, 14, 14]     (31,992)             False\n",
              "│    └─InvertedResidual (11)                                 [32, 80, 14, 14]     [32, 112, 14, 14]    --                   False\n",
              "│    │    └─Sequential (block)                               [32, 80, 14, 14]     [32, 112, 14, 14]    (214,424)            False\n",
              "│    └─InvertedResidual (12)                                 [32, 112, 14, 14]    [32, 112, 14, 14]    --                   False\n",
              "│    │    └─Sequential (block)                               [32, 112, 14, 14]    [32, 112, 14, 14]    (386,120)            False\n",
              "│    └─InvertedResidual (13)                                 [32, 112, 14, 14]    [32, 160, 7, 7]      --                   False\n",
              "│    │    └─Sequential (block)                               [32, 112, 14, 14]    [32, 160, 7, 7]      (429,224)            False\n",
              "│    └─InvertedResidual (14)                                 [32, 160, 7, 7]      [32, 160, 7, 7]      --                   False\n",
              "│    │    └─Sequential (block)                               [32, 160, 7, 7]      [32, 160, 7, 7]      (797,360)            False\n",
              "│    └─InvertedResidual (15)                                 [32, 160, 7, 7]      [32, 160, 7, 7]      --                   False\n",
              "│    │    └─Sequential (block)                               [32, 160, 7, 7]      [32, 160, 7, 7]      (797,360)            False\n",
              "│    └─Conv2dNormActivation (16)                             [32, 160, 7, 7]      [32, 960, 7, 7]      --                   False\n",
              "│    │    └─Conv2d (0)                                       [32, 160, 7, 7]      [32, 960, 7, 7]      (153,600)            False\n",
              "│    │    └─BatchNorm2d (1)                                  [32, 960, 7, 7]      [32, 960, 7, 7]      (1,920)              False\n",
              "│    │    └─Hardswish (2)                                    [32, 960, 7, 7]      [32, 960, 7, 7]      --                   --\n",
              "├─AdaptiveAvgPool2d (avgpool)                                [32, 960, 7, 7]      [32, 960, 1, 1]      --                   --\n",
              "├─Sequential (classifier)                                    [32, 960]            [32, 10]             --                   True\n",
              "│    └─Linear (0)                                            [32, 960]            [32, 10]             9,610                True\n",
              "============================================================================================================================================\n",
              "Total params: 2,981,562\n",
              "Trainable params: 9,610\n",
              "Non-trainable params: 2,971,952\n",
              "Total mult-adds (Units.GIGABYTES): 6.85\n",
              "============================================================================================================================================\n",
              "Input size (MB): 19.27\n",
              "Forward/backward pass size (MB): 2254.00\n",
              "Params size (MB): 11.93\n",
              "Estimated Total Size (MB): 2285.20\n",
              "============================================================================================================================================"
            ]
          },
          "metadata": {},
          "execution_count": 26
        }
      ]
    },
    {
      "cell_type": "code",
      "source": [
        "# Define função de perda e otimizador\n",
        "loss_fn_m1 = torch.nn.CrossEntropyLoss()\n",
        "optimizer_m1 = torch.optim.SGD(model_1.parameters(), lr=0.1)"
      ],
      "metadata": {
        "id": "nA89pe496vYg"
      },
      "execution_count": 27,
      "outputs": []
    },
    {
      "cell_type": "code",
      "source": [
        "# Medir tempo\n",
        "from tqdm.auto import tqdm\n",
        "from timeit import default_timer as timer\n",
        "\n",
        "# Início da medição de tempo\n",
        "train_time_start_on_gpu = timer()\n",
        "\n",
        "# Número de épocas\n",
        "epochs = 10\n",
        "\n",
        "# Loop de treino\n",
        "for epoch in tqdm(range(epochs)):\n",
        "    print(f\"Epoch: {epoch}\\n{30 * '-'}\")\n",
        "\n",
        "    train_step(\n",
        "        data_loader=train_dataloader,\n",
        "        model=model_1,\n",
        "        loss_fn=loss_fn_m1,\n",
        "        optimizer=optimizer_m1,\n",
        "        accuracy_fn=accuracy_fn,\n",
        "        device=device\n",
        "    )\n",
        "\n",
        "    test_step(\n",
        "        data_loader=test_dataloader,\n",
        "        model=model_1,\n",
        "        loss_fn=loss_fn_m1,\n",
        "        accuracy_fn=accuracy_fn,\n",
        "        device=device\n",
        "    )\n",
        "\n",
        "# Fim da medição de tempo\n",
        "train_time_end_on_gpu = timer()\n",
        "\n",
        "total_train_time_model_1 = print_train_time(\n",
        "    start=train_time_start_on_gpu,\n",
        "    end=train_time_end_on_gpu,\n",
        "    device=device\n",
        ")\n"
      ],
      "metadata": {
        "colab": {
          "base_uri": "https://localhost:8080/",
          "height": 1000,
          "referenced_widgets": [
            "87cdc9f02fc9498d94ac76fd6cd37bca",
            "dfba574fed1d4fa8bd5010a4235ea6ed",
            "84c04796a83548d19f8558a600b3bf1e",
            "4fd0744d6e894f67bbec017e9ffe60fd",
            "634762d2d44845fcbf3f0e797a9fd1e1",
            "49b78a3f27a242b4af1a0d4ef27c304c",
            "318a23967f464702b51a32f06b7a4a98",
            "5740bf439c24453ca4a62e4bfe749738",
            "8955417825b049a582e9b731725a5797",
            "c755bc44395543098df625ca9b29e4d0",
            "b274f66f76b6478d9d358e9009496cea"
          ]
        },
        "id": "BcXui2VQ60VF",
        "outputId": "bd75befa-7f52-4d60-a6ed-0fc56c95f5af"
      },
      "execution_count": 28,
      "outputs": [
        {
          "output_type": "display_data",
          "data": {
            "text/plain": [
              "  0%|          | 0/10 [00:00<?, ?it/s]"
            ],
            "application/vnd.jupyter.widget-view+json": {
              "version_major": 2,
              "version_minor": 0,
              "model_id": "87cdc9f02fc9498d94ac76fd6cd37bca"
            }
          },
          "metadata": {}
        },
        {
          "output_type": "stream",
          "name": "stdout",
          "text": [
            "Epoch: 0\n",
            "------------------------------\n",
            "Train loss: 0.82536 | Train accuracy: 71.78%\n",
            "\n",
            "Test loss: 0.65837 | Test accuracy: 76.98%\n",
            "\n",
            "Epoch: 1\n",
            "------------------------------\n",
            "Train loss: 0.69458 | Train accuracy: 75.74%\n",
            "\n",
            "Test loss: 0.63300 | Test accuracy: 77.83%\n",
            "\n",
            "Epoch: 2\n",
            "------------------------------\n",
            "Train loss: 0.65775 | Train accuracy: 77.11%\n",
            "\n",
            "Test loss: 0.64068 | Test accuracy: 77.89%\n",
            "\n",
            "Epoch: 3\n",
            "------------------------------\n",
            "Train loss: 0.63918 | Train accuracy: 77.71%\n",
            "\n",
            "Test loss: 0.65833 | Test accuracy: 77.00%\n",
            "\n",
            "Epoch: 4\n",
            "------------------------------\n",
            "Train loss: 0.62788 | Train accuracy: 78.09%\n",
            "\n",
            "Test loss: 0.61300 | Test accuracy: 78.35%\n",
            "\n",
            "Epoch: 5\n",
            "------------------------------\n",
            "Train loss: 0.61887 | Train accuracy: 78.42%\n",
            "\n",
            "Test loss: 0.65261 | Test accuracy: 77.20%\n",
            "\n",
            "Epoch: 6\n",
            "------------------------------\n",
            "Train loss: 0.61423 | Train accuracy: 78.57%\n",
            "\n",
            "Test loss: 0.65279 | Test accuracy: 77.59%\n",
            "\n",
            "Epoch: 7\n",
            "------------------------------\n",
            "Train loss: 0.61254 | Train accuracy: 78.52%\n",
            "\n",
            "Test loss: 0.63694 | Test accuracy: 78.14%\n",
            "\n",
            "Epoch: 8\n",
            "------------------------------\n",
            "Train loss: 0.60745 | Train accuracy: 78.88%\n",
            "\n",
            "Test loss: 0.62930 | Test accuracy: 78.48%\n",
            "\n",
            "Epoch: 9\n",
            "------------------------------\n",
            "Train loss: 0.60423 | Train accuracy: 78.64%\n",
            "\n",
            "Test loss: 0.63058 | Test accuracy: 77.96%\n",
            "\n",
            "Train time on cuda: 1205.337 seconds\n"
          ]
        }
      ]
    },
    {
      "cell_type": "code",
      "source": [
        "# Salvando o modelo\n",
        "from pathlib import Path\n",
        "\n",
        "# Cria caminhos para salvar o modelo\n",
        "MODEL_PATH = Path(\"models\")\n",
        "MODEL_PATH.mkdir(parents=True,\n",
        "                 exist_ok=True\n",
        ")\n",
        "\n",
        "MODEL_NAME = \"cifar10_ccn_transfer_learning_model.pth\"\n",
        "MODEL_SAVE_PATH = MODEL_PATH / MODEL_NAME\n",
        "\n",
        "print(f\"Salvando model 1: {MODEL_SAVE_PATH}\")\n",
        "torch.save(obj=model_1.state_dict(), # salva state_dict(), parâmetros aprendidos\n",
        "           f=MODEL_SAVE_PATH)"
      ],
      "metadata": {
        "colab": {
          "base_uri": "https://localhost:8080/"
        },
        "id": "61IkjeOm64qS",
        "outputId": "53f25b0c-8be4-475e-b3e7-7cc0d34bb4e2"
      },
      "execution_count": 30,
      "outputs": [
        {
          "output_type": "stream",
          "name": "stdout",
          "text": [
            "Salvando model 1: models/cifar10_ccn_transfer_learning_model.pth\n"
          ]
        }
      ]
    },
    {
      "cell_type": "markdown",
      "source": [
        "# Agora que temos o modelo salvo, vamos classificar algumas imagens!"
      ],
      "metadata": {
        "id": "5-JIFQo48P77"
      }
    },
    {
      "cell_type": "code",
      "source": [
        "# 1. Upload de imagem\n",
        "from google.colab import files\n",
        "from PIL import Image\n",
        "import torchvision.transforms as transforms\n",
        "\n",
        "uploaded = files.upload()\n"
      ],
      "metadata": {
        "colab": {
          "base_uri": "https://localhost:8080/",
          "height": 73
        },
        "id": "-1TSTiNc8N7Q",
        "outputId": "31eb4236-bccf-49ba-d174-b38893369c9c"
      },
      "execution_count": 39,
      "outputs": [
        {
          "output_type": "display_data",
          "data": {
            "text/plain": [
              "<IPython.core.display.HTML object>"
            ],
            "text/html": [
              "\n",
              "     <input type=\"file\" id=\"files-93cf8fad-8e37-431e-b951-8488a537727f\" name=\"files[]\" multiple disabled\n",
              "        style=\"border:none\" />\n",
              "     <output id=\"result-93cf8fad-8e37-431e-b951-8488a537727f\">\n",
              "      Upload widget is only available when the cell has been executed in the\n",
              "      current browser session. Please rerun this cell to enable.\n",
              "      </output>\n",
              "      <script>// Copyright 2017 Google LLC\n",
              "//\n",
              "// Licensed under the Apache License, Version 2.0 (the \"License\");\n",
              "// you may not use this file except in compliance with the License.\n",
              "// You may obtain a copy of the License at\n",
              "//\n",
              "//      http://www.apache.org/licenses/LICENSE-2.0\n",
              "//\n",
              "// Unless required by applicable law or agreed to in writing, software\n",
              "// distributed under the License is distributed on an \"AS IS\" BASIS,\n",
              "// WITHOUT WARRANTIES OR CONDITIONS OF ANY KIND, either express or implied.\n",
              "// See the License for the specific language governing permissions and\n",
              "// limitations under the License.\n",
              "\n",
              "/**\n",
              " * @fileoverview Helpers for google.colab Python module.\n",
              " */\n",
              "(function(scope) {\n",
              "function span(text, styleAttributes = {}) {\n",
              "  const element = document.createElement('span');\n",
              "  element.textContent = text;\n",
              "  for (const key of Object.keys(styleAttributes)) {\n",
              "    element.style[key] = styleAttributes[key];\n",
              "  }\n",
              "  return element;\n",
              "}\n",
              "\n",
              "// Max number of bytes which will be uploaded at a time.\n",
              "const MAX_PAYLOAD_SIZE = 100 * 1024;\n",
              "\n",
              "function _uploadFiles(inputId, outputId) {\n",
              "  const steps = uploadFilesStep(inputId, outputId);\n",
              "  const outputElement = document.getElementById(outputId);\n",
              "  // Cache steps on the outputElement to make it available for the next call\n",
              "  // to uploadFilesContinue from Python.\n",
              "  outputElement.steps = steps;\n",
              "\n",
              "  return _uploadFilesContinue(outputId);\n",
              "}\n",
              "\n",
              "// This is roughly an async generator (not supported in the browser yet),\n",
              "// where there are multiple asynchronous steps and the Python side is going\n",
              "// to poll for completion of each step.\n",
              "// This uses a Promise to block the python side on completion of each step,\n",
              "// then passes the result of the previous step as the input to the next step.\n",
              "function _uploadFilesContinue(outputId) {\n",
              "  const outputElement = document.getElementById(outputId);\n",
              "  const steps = outputElement.steps;\n",
              "\n",
              "  const next = steps.next(outputElement.lastPromiseValue);\n",
              "  return Promise.resolve(next.value.promise).then((value) => {\n",
              "    // Cache the last promise value to make it available to the next\n",
              "    // step of the generator.\n",
              "    outputElement.lastPromiseValue = value;\n",
              "    return next.value.response;\n",
              "  });\n",
              "}\n",
              "\n",
              "/**\n",
              " * Generator function which is called between each async step of the upload\n",
              " * process.\n",
              " * @param {string} inputId Element ID of the input file picker element.\n",
              " * @param {string} outputId Element ID of the output display.\n",
              " * @return {!Iterable<!Object>} Iterable of next steps.\n",
              " */\n",
              "function* uploadFilesStep(inputId, outputId) {\n",
              "  const inputElement = document.getElementById(inputId);\n",
              "  inputElement.disabled = false;\n",
              "\n",
              "  const outputElement = document.getElementById(outputId);\n",
              "  outputElement.innerHTML = '';\n",
              "\n",
              "  const pickedPromise = new Promise((resolve) => {\n",
              "    inputElement.addEventListener('change', (e) => {\n",
              "      resolve(e.target.files);\n",
              "    });\n",
              "  });\n",
              "\n",
              "  const cancel = document.createElement('button');\n",
              "  inputElement.parentElement.appendChild(cancel);\n",
              "  cancel.textContent = 'Cancel upload';\n",
              "  const cancelPromise = new Promise((resolve) => {\n",
              "    cancel.onclick = () => {\n",
              "      resolve(null);\n",
              "    };\n",
              "  });\n",
              "\n",
              "  // Wait for the user to pick the files.\n",
              "  const files = yield {\n",
              "    promise: Promise.race([pickedPromise, cancelPromise]),\n",
              "    response: {\n",
              "      action: 'starting',\n",
              "    }\n",
              "  };\n",
              "\n",
              "  cancel.remove();\n",
              "\n",
              "  // Disable the input element since further picks are not allowed.\n",
              "  inputElement.disabled = true;\n",
              "\n",
              "  if (!files) {\n",
              "    return {\n",
              "      response: {\n",
              "        action: 'complete',\n",
              "      }\n",
              "    };\n",
              "  }\n",
              "\n",
              "  for (const file of files) {\n",
              "    const li = document.createElement('li');\n",
              "    li.append(span(file.name, {fontWeight: 'bold'}));\n",
              "    li.append(span(\n",
              "        `(${file.type || 'n/a'}) - ${file.size} bytes, ` +\n",
              "        `last modified: ${\n",
              "            file.lastModifiedDate ? file.lastModifiedDate.toLocaleDateString() :\n",
              "                                    'n/a'} - `));\n",
              "    const percent = span('0% done');\n",
              "    li.appendChild(percent);\n",
              "\n",
              "    outputElement.appendChild(li);\n",
              "\n",
              "    const fileDataPromise = new Promise((resolve) => {\n",
              "      const reader = new FileReader();\n",
              "      reader.onload = (e) => {\n",
              "        resolve(e.target.result);\n",
              "      };\n",
              "      reader.readAsArrayBuffer(file);\n",
              "    });\n",
              "    // Wait for the data to be ready.\n",
              "    let fileData = yield {\n",
              "      promise: fileDataPromise,\n",
              "      response: {\n",
              "        action: 'continue',\n",
              "      }\n",
              "    };\n",
              "\n",
              "    // Use a chunked sending to avoid message size limits. See b/62115660.\n",
              "    let position = 0;\n",
              "    do {\n",
              "      const length = Math.min(fileData.byteLength - position, MAX_PAYLOAD_SIZE);\n",
              "      const chunk = new Uint8Array(fileData, position, length);\n",
              "      position += length;\n",
              "\n",
              "      const base64 = btoa(String.fromCharCode.apply(null, chunk));\n",
              "      yield {\n",
              "        response: {\n",
              "          action: 'append',\n",
              "          file: file.name,\n",
              "          data: base64,\n",
              "        },\n",
              "      };\n",
              "\n",
              "      let percentDone = fileData.byteLength === 0 ?\n",
              "          100 :\n",
              "          Math.round((position / fileData.byteLength) * 100);\n",
              "      percent.textContent = `${percentDone}% done`;\n",
              "\n",
              "    } while (position < fileData.byteLength);\n",
              "  }\n",
              "\n",
              "  // All done.\n",
              "  yield {\n",
              "    response: {\n",
              "      action: 'complete',\n",
              "    }\n",
              "  };\n",
              "}\n",
              "\n",
              "scope.google = scope.google || {};\n",
              "scope.google.colab = scope.google.colab || {};\n",
              "scope.google.colab._files = {\n",
              "  _uploadFiles,\n",
              "  _uploadFilesContinue,\n",
              "};\n",
              "})(self);\n",
              "</script> "
            ]
          },
          "metadata": {}
        },
        {
          "output_type": "stream",
          "name": "stdout",
          "text": [
            "Saving 360_F_250080568_QvCaYVy1NWJAVGeXdwa9YCKRtFLWITnZ.webp to 360_F_250080568_QvCaYVy1NWJAVGeXdwa9YCKRtFLWITnZ.webp\n"
          ]
        }
      ]
    },
    {
      "cell_type": "code",
      "source": [
        "# 2. Carregar imagem e aplicar transformações compatíveis com MobileNetV3\n",
        "from torchvision import transforms\n",
        "\n",
        "transform = transforms.Compose([\n",
        "    transforms.Resize((224, 224)),  # MobileNet espera 224x224\n",
        "    transforms.ToTensor(),\n",
        "    transforms.Normalize(mean=[0.485, 0.456, 0.406],  # valores padrão do ImageNet\n",
        "                         std=[0.229, 0.224, 0.225])\n",
        "])\n",
        "\n",
        "image_path = list(uploaded.keys())[0]  # Pega o nome da imagem enviada\n",
        "image = Image.open(image_path).convert(\"RGB\")\n",
        "input_tensor = transform(image).unsqueeze(0).to(device)  # shape: [1, 3, 224, 224]\n"
      ],
      "metadata": {
        "id": "fZqqwJNP8Yum"
      },
      "execution_count": 40,
      "outputs": []
    },
    {
      "cell_type": "code",
      "source": [
        "# Fazer a previsão\n",
        "with torch.inference_mode():\n",
        "    pred_logits = model_1(input_tensor)\n",
        "    pred_label = torch.argmax(pred_logits, dim=1).item()\n"
      ],
      "metadata": {
        "id": "Yq32_A548nee"
      },
      "execution_count": 41,
      "outputs": []
    },
    {
      "cell_type": "code",
      "source": [
        "# Mapear o índice da previsão para as classes\n",
        "class_names = [\n",
        "'airplane',\n",
        "'automobile',\n",
        "'bird',\n",
        "'cat',\n",
        "'deer',\n",
        "'dog',\n",
        "'frog',\n",
        "'horse',\n",
        "'ship',\n",
        "'truck'\n",
        "]\n",
        "\n",
        "print(f\"Predição: {class_names[pred_label]}\")\n",
        "image.show()\n"
      ],
      "metadata": {
        "colab": {
          "base_uri": "https://localhost:8080/"
        },
        "id": "zxqvWrQ_8rAw",
        "outputId": "8e2fd842-2cea-46eb-a380-44af30ae4a04"
      },
      "execution_count": 42,
      "outputs": [
        {
          "output_type": "stream",
          "name": "stdout",
          "text": [
            "Predição: bird\n"
          ]
        }
      ]
    }
  ]
}